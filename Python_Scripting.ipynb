{
 "cells": [
  {
   "cell_type": "markdown",
   "id": "7b09d025-43c7-43d8-8649-22e8a238b846",
   "metadata": {},
   "source": [
    "## Live Weather Data"
   ]
  },
  {
   "cell_type": "code",
   "execution_count": 10,
   "id": "7454be0e-20dd-430d-86c1-44775fd3a312",
   "metadata": {},
   "outputs": [
    {
     "name": "stdin",
     "output_type": "stream",
     "text": [
      "Enter Your City Name Please:  knoxville\n"
     ]
    },
    {
     "name": "stdout",
     "output_type": "stream",
     "text": [
      "{'coord': {'lon': -83.9207, 'lat': 35.9606}, 'weather': [{'id': 800, 'main': 'Clear', 'description': 'clear sky', 'icon': '01n'}], 'base': 'stations', 'main': {'temp': 5.78, 'feels_like': 4.5, 'temp_min': 3.33, 'temp_max': 7.83, 'pressure': 1025, 'humidity': 67}, 'visibility': 10000, 'wind': {'speed': 1.79, 'deg': 101, 'gust': 4.02}, 'clouds': {'all': 0}, 'dt': 1673049468, 'sys': {'type': 1, 'id': 3818, 'country': 'US', 'sunrise': 1673009194, 'sunset': 1673044555}, 'timezone': -18000, 'id': 4634946, 'name': 'Knoxville', 'cod': 200}\n",
      "The weather is:  clear sky\n",
      "The Temperature is:  42.403999999999996 F\n"
     ]
    }
   ],
   "source": [
    "import requests\n",
    "\n",
    "BASE_URL = \"https://api.openweathermap.org/data/2.5/weather\"\n",
    "API_KEY = \"c7970e3fb1d0e63cb0980a8aea1ded34\"\n",
    "\n",
    "your_city = input(\"Enter Your City Name Please: \")\n",
    "request_url = f\"{BASE_URL}?appid={API_KEY}&q={your_city}&units=metric\"\n",
    "response = requests.get(request_url)\n",
    "\n",
    "#Check the status code if not code 200\n",
    "#Response will be given in JSON (Javascript Object Notation)\n",
    "\n",
    "if response.status_code == 200:\n",
    "    data = response.json()\n",
    "    #print(data)\n",
    "    weather = data['weather'][0]['description']\n",
    "    #print(weather)\n",
    "    temperature = data[\"main\"][\"temp\"]\n",
    "    farenheit = (temperature * (9/5)) + 32\n",
    "    print('The weather is: ', weather)\n",
    "    print('The Temperature is: ', farenheit, 'F')\n",
    "else:\n",
    "    print(\"An Error Has Occurred.\")"
   ]
  },
  {
   "cell_type": "code",
   "execution_count": null,
   "id": "058850d6-31fe-4171-9b8c-6872053fffb3",
   "metadata": {},
   "outputs": [],
   "source": []
  }
 ],
 "metadata": {
  "kernelspec": {
   "display_name": "Python 3 (ipykernel)",
   "language": "python",
   "name": "python3"
  },
  "language_info": {
   "codemirror_mode": {
    "name": "ipython",
    "version": 3
   },
   "file_extension": ".py",
   "mimetype": "text/x-python",
   "name": "python",
   "nbconvert_exporter": "python",
   "pygments_lexer": "ipython3",
   "version": "3.9.13"
  }
 },
 "nbformat": 4,
 "nbformat_minor": 5
}
